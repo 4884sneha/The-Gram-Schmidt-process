{
  "nbformat": 4,
  "nbformat_minor": 0,
  "metadata": {
    "colab": {
      "name": "Untitled7.ipynb",
      "provenance": [],
      "authorship_tag": "ABX9TyOarVZWzZUsr/M4zZWHqLqs",
      "include_colab_link": true
    },
    "kernelspec": {
      "name": "python3",
      "display_name": "Python 3"
    }
  },
  "cells": [
    {
      "cell_type": "markdown",
      "metadata": {
        "id": "view-in-github",
        "colab_type": "text"
      },
      "source": [
        "<a href=\"https://colab.research.google.com/github/4884sneha/The-Gram-Schmidt-process/blob/main/Untitled7.ipynb\" target=\"_parent\"><img src=\"https://colab.research.google.com/assets/colab-badge.svg\" alt=\"Open In Colab\"/></a>"
      ]
    },
    {
      "cell_type": "code",
      "metadata": {
        "id": "AkJ3KrLVKKMh"
      },
      "source": [
        "# GRADED FUNCTION\n",
        "import numpy as np\n",
        "import numpy.linalg as la\n",
        "\n",
        "verySmallNumber = 1e-14 # That's 1×10⁻¹⁴ = 0.00000000000001\n",
        "\n",
        "# Our first function will perform the Gram-Schmidt procedure for 4 basis vectors.\n",
        "# We'll take this list of vectors as the columns of a matrix, A.\n",
        "# We'll then go through the vectors one at a time and set them to be orthogonal\n",
        "# to all the vectors that came before it. Before normalising.\n",
        "# Follow the instructions inside the function at each comment.\n",
        "# You will be told where to add code to complete the function.\n",
        "def gsBasis4(A) :\n",
        "    B = np.array(A, dtype=np.float_) # Make B as a copy of A, since we're going to alter it's values.\n",
        "    # The zeroth column is easy, since it has no other vectors to make it normal to.\n",
        "    # All that needs to be done is to normalise it. I.e. divide by its modulus, or norm.\n",
        "    B[:, 0] = B[:, 0] / la.norm(B[:, 0])\n",
        "    # For the first column, we need to subtract any overlap with our new zeroth vector.\n",
        "    B[:, 1] = B[:, 1] - B[:, 1] @ B[:, 0] * B[:, 0]\n",
        "    # If there's anything left after that subtraction, then B[:, 1] is linearly independant of B[:, 0]\n",
        "    # If this is the case, we can normalise it. Otherwise we'll set that vector to zero.\n",
        "    if la.norm(B[:, 1]) > verySmallNumber :\n",
        "        B[:, 1] = B[:, 1] / la.norm(B[:, 1])\n",
        "    else :\n",
        "        B[:, 1] = np.zeros_like(B[:, 1])\n",
        "    # Now we need to repeat the process for column 2.\n",
        "    # Insert two lines of code, the first to subtract the overlap with the zeroth vector,\n",
        "    B[:,2]=B[:,2]-B[:,2]@B[:,0]*B[:,0]\n",
        "    B[:,2]=B[:,2]-B[:,2]@B[:,1]*B[:,1]\n",
        "\n",
        "    \n",
        "    # and the second to subtract the overlap with the first.\n",
        "    \n",
        "    \n",
        "    # Again we'll need to normalise our new vector.\n",
        "    # Copy and adapt the normalisation fragment from above to column 2.\n",
        "    if la.norm(B[:, 2]) > verySmallNumber :\n",
        "        B[:, 2] = B[:, 2] / la.norm(B[:, 2])\n",
        "    else :\n",
        "        B[:, 2] = np.zeros_like(B[:, 2])    \n",
        "    \n",
        "    \n",
        "    \n",
        "    \n",
        "    # Finally, column three:\n",
        "    # Insert code to subtract the overlap with the first three vectors.\n",
        "    B[:,3]=B[:,3]-B[:,3]@B[:,0]*B[:,0]\n",
        "    B[:,3]=B[:,3]-B[:,3]@B[:,1]*B[:,1]\n",
        "    B[:,3]=B[:,3]-B[:,3]@B[:,2]*B[:,2]\n",
        "\n",
        "    \n",
        "    \n",
        "    # Now normalise if possible\n",
        "    if la.norm(B[:, 3]) > verySmallNumber :\n",
        "        B[:, 3] = B[:, 3] / la.norm(B[:, 3])\n",
        "    else :\n",
        "        B[:, 3] = np.zeros_like(B[:, 3])    \n",
        "    \n",
        "    \n",
        "    \n",
        "    \n",
        "    # Finally, we return the result:\n",
        "    return B\n",
        "\n",
        "# The second part of this exercise will generalise the procedure.\n",
        "# Previously, we could only have four vectors, and there was a lot of repeating in the code.\n",
        "# We'll use a for-loop here to iterate the process for each vector.\n",
        "def gsBasis(A) :\n",
        "    B = np.array(A, dtype=np.float_) # Make B as a copy of A, since we're going to alter it's values.\n",
        "    # Loop over all vectors, starting with zero, label them with i\n",
        "    for i in range(B.shape[1]) :\n",
        "        # Inside that loop, loop over all previous vectors, j, to subtract.\n",
        "        for j in range(i) :\n",
        "            # Complete the code to subtract the overlap with previous vectors.\n",
        "            # you'll need the current vector B[:, i] and a previous vector B[:, j]\n",
        "            B[:, i] = B[:,i] - B[:,i] @ B[:,j] * B[:,j]\n",
        "        # Next insert code to do the normalisation test for B[:, i]\n",
        "        if la.norm(B[:, i]) > verySmallNumber :\n",
        "            B[:, i] = B[:, i] / la.norm(B[:, i])\n",
        "        else :\n",
        "            B[:, i] = np.zeros_like(B[:, i])    \n",
        "    \n",
        "    \n",
        "            \n",
        "        \n",
        "            \n",
        "    # Finally, we return the result:\n",
        "    return B\n",
        "\n",
        "# This function uses the Gram-schmidt process to calculate the dimension\n",
        "# spanned by a list of vectors.\n",
        "# Since each vector is normalised to one, or is zero,\n",
        "# the sum of all the norms will be the dimension.\n",
        "def dimensions(A) :\n",
        "    return np.sum(la.norm(gsBasis(A), axis=0))\n"
      ],
      "execution_count": 2,
      "outputs": []
    },
    {
      "cell_type": "code",
      "metadata": {
        "id": "lCxg7TSLKigb",
        "outputId": "1d80f75b-0f80-499b-eb70-0a036f8daf3c",
        "colab": {
          "base_uri": "https://localhost:8080/",
          "height": 85
        }
      },
      "source": [
        "V = np.array([[1,0,2,6],\n",
        "              [0,1,8,2],\n",
        "              [2,8,3,1],\n",
        "              [1,-6,2,3]], dtype=np.float_)\n",
        "gsBasis4(V)"
      ],
      "execution_count": 3,
      "outputs": [
        {
          "output_type": "execute_result",
          "data": {
            "text/plain": [
              "array([[ 0.40824829, -0.1814885 ,  0.04982278,  0.89325973],\n",
              "       [ 0.        ,  0.1088931 ,  0.99349591, -0.03328918],\n",
              "       [ 0.81649658,  0.50816781, -0.06462163, -0.26631346],\n",
              "       [ 0.40824829, -0.83484711,  0.07942048, -0.36063281]])"
            ]
          },
          "metadata": {
            "tags": []
          },
          "execution_count": 3
        }
      ]
    },
    {
      "cell_type": "code",
      "metadata": {
        "id": "aKk-AyydKidb",
        "outputId": "962e84a6-3756-4666-cd52-62ace477db8e",
        "colab": {
          "base_uri": "https://localhost:8080/",
          "height": 85
        }
      },
      "source": [
        "# Once you've done Gram-Schmidt once,\n",
        "# doing it again should give you the same result. Test this:\n",
        "U = gsBasis4(V)\n",
        "gsBasis4(U)"
      ],
      "execution_count": 4,
      "outputs": [
        {
          "output_type": "execute_result",
          "data": {
            "text/plain": [
              "array([[ 0.40824829, -0.1814885 ,  0.04982278,  0.89325973],\n",
              "       [ 0.        ,  0.1088931 ,  0.99349591, -0.03328918],\n",
              "       [ 0.81649658,  0.50816781, -0.06462163, -0.26631346],\n",
              "       [ 0.40824829, -0.83484711,  0.07942048, -0.36063281]])"
            ]
          },
          "metadata": {
            "tags": []
          },
          "execution_count": 4
        }
      ]
    },
    {
      "cell_type": "code",
      "metadata": {
        "id": "XpNWitszKib7",
        "outputId": "d0dfd2ec-cd98-4a6f-c956-ef165505b85f",
        "colab": {
          "base_uri": "https://localhost:8080/",
          "height": 85
        }
      },
      "source": [
        "# See what happens for non-square matrices\n",
        "A = np.array([[3,2,3],\n",
        "              [2,5,-1],\n",
        "              [2,4,8],\n",
        "              [12,2,1]], dtype=np.float_)\n",
        "gsBasis(A)"
      ],
      "execution_count": 5,
      "outputs": [
        {
          "output_type": "execute_result",
          "data": {
            "text/plain": [
              "array([[ 0.23643312,  0.18771349,  0.22132104],\n",
              "       [ 0.15762208,  0.74769023, -0.64395812],\n",
              "       [ 0.15762208,  0.57790444,  0.72904263],\n",
              "       [ 0.94573249, -0.26786082, -0.06951101]])"
            ]
          },
          "metadata": {
            "tags": []
          },
          "execution_count": 5
        }
      ]
    },
    {
      "cell_type": "code",
      "metadata": {
        "id": "SLt5sw-dKuAS",
        "outputId": "42d6f281-eac9-492b-f632-af523b471f24",
        "colab": {
          "base_uri": "https://localhost:8080/",
          "height": 34
        }
      },
      "source": [
        "dimensions(A)"
      ],
      "execution_count": 6,
      "outputs": [
        {
          "output_type": "execute_result",
          "data": {
            "text/plain": [
              "3.0"
            ]
          },
          "metadata": {
            "tags": []
          },
          "execution_count": 6
        }
      ]
    },
    {
      "cell_type": "code",
      "metadata": {
        "id": "ompQ1M5WKuIO",
        "outputId": "5f406dc0-77c1-400d-cc25-d2ddf0c61d98",
        "colab": {
          "base_uri": "https://localhost:8080/",
          "height": 68
        }
      },
      "source": [
        "B = np.array([[6,2,1,7,5],\n",
        "              [2,8,5,-4,1],\n",
        "              [1,-6,3,2,8]], dtype=np.float_)\n",
        "gsBasis(B)"
      ],
      "execution_count": 7,
      "outputs": [
        {
          "output_type": "execute_result",
          "data": {
            "text/plain": [
              "array([[ 0.93704257, -0.12700832, -0.32530002,  0.        ,  0.        ],\n",
              "       [ 0.31234752,  0.72140727,  0.61807005,  0.        ,  0.        ],\n",
              "       [ 0.15617376, -0.6807646 ,  0.71566005,  0.        ,  0.        ]])"
            ]
          },
          "metadata": {
            "tags": []
          },
          "execution_count": 7
        }
      ]
    },
    {
      "cell_type": "code",
      "metadata": {
        "id": "RnuY8E0LKt9T",
        "outputId": "7e2216d8-cf91-4cd4-ab1a-056e1fef3e84",
        "colab": {
          "base_uri": "https://localhost:8080/",
          "height": 34
        }
      },
      "source": [
        "dimensions(B)"
      ],
      "execution_count": 8,
      "outputs": [
        {
          "output_type": "execute_result",
          "data": {
            "text/plain": [
              "3.0"
            ]
          },
          "metadata": {
            "tags": []
          },
          "execution_count": 8
        }
      ]
    },
    {
      "cell_type": "code",
      "metadata": {
        "id": "CbACPiI8K2CG",
        "outputId": "494b89e6-6ddc-4fbe-96f8-c80be86fc739",
        "colab": {
          "base_uri": "https://localhost:8080/",
          "height": 68
        }
      },
      "source": [
        "# Now let's see what happens when we have one vector that is a linear combination of the others.\n",
        "C = np.array([[1,0,2],\n",
        "              [0,1,-3],\n",
        "              [1,0,2]], dtype=np.float_)\n",
        "gsBasis(C)"
      ],
      "execution_count": 9,
      "outputs": [
        {
          "output_type": "execute_result",
          "data": {
            "text/plain": [
              "array([[0.70710678, 0.        , 0.        ],\n",
              "       [0.        , 1.        , 0.        ],\n",
              "       [0.70710678, 0.        , 0.        ]])"
            ]
          },
          "metadata": {
            "tags": []
          },
          "execution_count": 9
        }
      ]
    },
    {
      "cell_type": "code",
      "metadata": {
        "id": "nJKHHgvQK1-_",
        "outputId": "5afcbd84-97c6-45e0-f85d-bc6f988b6b05",
        "colab": {
          "base_uri": "https://localhost:8080/",
          "height": 34
        }
      },
      "source": [
        "dimensions(C)"
      ],
      "execution_count": 10,
      "outputs": [
        {
          "output_type": "execute_result",
          "data": {
            "text/plain": [
              "2.0"
            ]
          },
          "metadata": {
            "tags": []
          },
          "execution_count": 10
        }
      ]
    }
  ]
}